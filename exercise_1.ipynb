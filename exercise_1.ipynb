{
 "cells": [
  {
   "cell_type": "code",
   "execution_count": 19,
   "id": "5fce6381",
   "metadata": {},
   "outputs": [],
   "source": [
    "import pandas as pd\n",
    "import numpy as np\n",
    "import matplotlib.pyplot as plt\n",
    "import seaborn as sns\n",
    "from sklearn.model_selection import train_test_split\n",
    "from sklearn import metrics\n",
    "\n",
    "import tensorflow as tf\n",
    "import keras\n",
    "from keras import layers"
   ]
  },
  {
   "cell_type": "code",
   "execution_count": 20,
   "id": "55590fc0",
   "metadata": {},
   "outputs": [
    {
     "data": {
      "text/html": [
       "<div>\n",
       "<style scoped>\n",
       "    .dataframe tbody tr th:only-of-type {\n",
       "        vertical-align: middle;\n",
       "    }\n",
       "\n",
       "    .dataframe tbody tr th {\n",
       "        vertical-align: top;\n",
       "    }\n",
       "\n",
       "    .dataframe thead th {\n",
       "        text-align: right;\n",
       "    }\n",
       "</style>\n",
       "<table border=\"1\" class=\"dataframe\">\n",
       "  <thead>\n",
       "    <tr style=\"text-align: right;\">\n",
       "      <th></th>\n",
       "      <th>Unnamed: 0</th>\n",
       "      <th>Name</th>\n",
       "      <th>Brand</th>\n",
       "      <th>Price</th>\n",
       "      <th>Rating</th>\n",
       "      <th>Processor_brand</th>\n",
       "      <th>Processor_name</th>\n",
       "      <th>Processor_variant</th>\n",
       "      <th>Processor_gen</th>\n",
       "      <th>Core_per_processor</th>\n",
       "      <th>...</th>\n",
       "      <th>Graphics_name</th>\n",
       "      <th>Graphics_brand</th>\n",
       "      <th>Graphics_GB</th>\n",
       "      <th>Graphics_integreted</th>\n",
       "      <th>Display_size_inches</th>\n",
       "      <th>Horizontal_pixel</th>\n",
       "      <th>Vertical_pixel</th>\n",
       "      <th>ppi</th>\n",
       "      <th>Touch_screen</th>\n",
       "      <th>Operating_system</th>\n",
       "    </tr>\n",
       "  </thead>\n",
       "  <tbody>\n",
       "    <tr>\n",
       "      <th>0</th>\n",
       "      <td>0</td>\n",
       "      <td>HP Victus 15-fb0157AX Gaming Laptop (AMD Ryzen...</td>\n",
       "      <td>HP</td>\n",
       "      <td>50399</td>\n",
       "      <td>4.30</td>\n",
       "      <td>AMD</td>\n",
       "      <td>AMD Ryzen 5</td>\n",
       "      <td>5600H</td>\n",
       "      <td>5.0</td>\n",
       "      <td>6.0</td>\n",
       "      <td>...</td>\n",
       "      <td>AMD Radeon RX 6500M</td>\n",
       "      <td>AMD</td>\n",
       "      <td>4.0</td>\n",
       "      <td>False</td>\n",
       "      <td>15.6</td>\n",
       "      <td>1920</td>\n",
       "      <td>1080</td>\n",
       "      <td>141.21</td>\n",
       "      <td>True</td>\n",
       "      <td>Windows 11 OS</td>\n",
       "    </tr>\n",
       "    <tr>\n",
       "      <th>1</th>\n",
       "      <td>1</td>\n",
       "      <td>Lenovo V15 G4 ‎82YU00W7IN Laptop (AMD Ryzen 3 ...</td>\n",
       "      <td>Lenovo</td>\n",
       "      <td>26690</td>\n",
       "      <td>4.45</td>\n",
       "      <td>AMD</td>\n",
       "      <td>AMD Ryzen 3</td>\n",
       "      <td>7320U</td>\n",
       "      <td>7.0</td>\n",
       "      <td>4.0</td>\n",
       "      <td>...</td>\n",
       "      <td>AMD Radeon Graphics</td>\n",
       "      <td>AMD</td>\n",
       "      <td>NaN</td>\n",
       "      <td>False</td>\n",
       "      <td>15.6</td>\n",
       "      <td>1920</td>\n",
       "      <td>1080</td>\n",
       "      <td>141.21</td>\n",
       "      <td>False</td>\n",
       "      <td>Windows 11 OS</td>\n",
       "    </tr>\n",
       "    <tr>\n",
       "      <th>2</th>\n",
       "      <td>2</td>\n",
       "      <td>HP 15s-fq5007TU Laptop (12th Gen Core i3/ 8GB/...</td>\n",
       "      <td>HP</td>\n",
       "      <td>37012</td>\n",
       "      <td>4.65</td>\n",
       "      <td>Intel</td>\n",
       "      <td>Intel Core i3</td>\n",
       "      <td>1215U</td>\n",
       "      <td>12.0</td>\n",
       "      <td>6.0</td>\n",
       "      <td>...</td>\n",
       "      <td>Intel UHD Graphics</td>\n",
       "      <td>Intel</td>\n",
       "      <td>NaN</td>\n",
       "      <td>False</td>\n",
       "      <td>15.6</td>\n",
       "      <td>1920</td>\n",
       "      <td>1080</td>\n",
       "      <td>141.21</td>\n",
       "      <td>False</td>\n",
       "      <td>Windows 11 OS</td>\n",
       "    </tr>\n",
       "    <tr>\n",
       "      <th>3</th>\n",
       "      <td>3</td>\n",
       "      <td>Samsung Galaxy Book2 Pro 13 Laptop (12th Gen C...</td>\n",
       "      <td>Samsung</td>\n",
       "      <td>69990</td>\n",
       "      <td>4.75</td>\n",
       "      <td>Intel</td>\n",
       "      <td>Intel Core i5</td>\n",
       "      <td>1240P</td>\n",
       "      <td>12.0</td>\n",
       "      <td>12.0</td>\n",
       "      <td>...</td>\n",
       "      <td>Intel Iris Xe Graphics</td>\n",
       "      <td>Intel</td>\n",
       "      <td>NaN</td>\n",
       "      <td>False</td>\n",
       "      <td>13.3</td>\n",
       "      <td>1080</td>\n",
       "      <td>1920</td>\n",
       "      <td>165.63</td>\n",
       "      <td>False</td>\n",
       "      <td>Windows 11 OS</td>\n",
       "    </tr>\n",
       "    <tr>\n",
       "      <th>4</th>\n",
       "      <td>4</td>\n",
       "      <td>Tecno Megabook T1 Laptop (11th Gen Core i3/ 8G...</td>\n",
       "      <td>Tecno</td>\n",
       "      <td>23990</td>\n",
       "      <td>4.25</td>\n",
       "      <td>Intel</td>\n",
       "      <td>Intel Core i3</td>\n",
       "      <td>1115G4</td>\n",
       "      <td>11.0</td>\n",
       "      <td>2.0</td>\n",
       "      <td>...</td>\n",
       "      <td>Intel UHD Graphics</td>\n",
       "      <td>Intel</td>\n",
       "      <td>NaN</td>\n",
       "      <td>False</td>\n",
       "      <td>15.6</td>\n",
       "      <td>1920</td>\n",
       "      <td>1080</td>\n",
       "      <td>141.21</td>\n",
       "      <td>False</td>\n",
       "      <td>Windows 11 OS</td>\n",
       "    </tr>\n",
       "  </tbody>\n",
       "</table>\n",
       "<p>5 rows × 29 columns</p>\n",
       "</div>"
      ],
      "text/plain": [
       "   Unnamed: 0                                               Name    Brand  \\\n",
       "0           0  HP Victus 15-fb0157AX Gaming Laptop (AMD Ryzen...       HP   \n",
       "1           1  Lenovo V15 G4 ‎82YU00W7IN Laptop (AMD Ryzen 3 ...   Lenovo   \n",
       "2           2  HP 15s-fq5007TU Laptop (12th Gen Core i3/ 8GB/...       HP   \n",
       "3           3  Samsung Galaxy Book2 Pro 13 Laptop (12th Gen C...  Samsung   \n",
       "4           4  Tecno Megabook T1 Laptop (11th Gen Core i3/ 8G...    Tecno   \n",
       "\n",
       "   Price  Rating Processor_brand Processor_name Processor_variant  \\\n",
       "0  50399    4.30             AMD    AMD Ryzen 5             5600H   \n",
       "1  26690    4.45             AMD    AMD Ryzen 3             7320U   \n",
       "2  37012    4.65           Intel  Intel Core i3             1215U   \n",
       "3  69990    4.75           Intel  Intel Core i5             1240P   \n",
       "4  23990    4.25           Intel  Intel Core i3            1115G4   \n",
       "\n",
       "   Processor_gen  Core_per_processor  ...           Graphics_name  \\\n",
       "0            5.0                 6.0  ...     AMD Radeon RX 6500M   \n",
       "1            7.0                 4.0  ...     AMD Radeon Graphics   \n",
       "2           12.0                 6.0  ...      Intel UHD Graphics   \n",
       "3           12.0                12.0  ...  Intel Iris Xe Graphics   \n",
       "4           11.0                 2.0  ...      Intel UHD Graphics   \n",
       "\n",
       "   Graphics_brand  Graphics_GB  Graphics_integreted  Display_size_inches  \\\n",
       "0             AMD          4.0                False                 15.6   \n",
       "1             AMD          NaN                False                 15.6   \n",
       "2           Intel          NaN                False                 15.6   \n",
       "3           Intel          NaN                False                 13.3   \n",
       "4           Intel          NaN                False                 15.6   \n",
       "\n",
       "   Horizontal_pixel Vertical_pixel     ppi Touch_screen Operating_system  \n",
       "0              1920           1080  141.21         True    Windows 11 OS  \n",
       "1              1920           1080  141.21        False    Windows 11 OS  \n",
       "2              1920           1080  141.21        False    Windows 11 OS  \n",
       "3              1080           1920  165.63        False    Windows 11 OS  \n",
       "4              1920           1080  141.21        False    Windows 11 OS  \n",
       "\n",
       "[5 rows x 29 columns]"
      ]
     },
     "execution_count": 20,
     "metadata": {},
     "output_type": "execute_result"
    }
   ],
   "source": [
    "# read the dataset\n",
    "df = pd.read_csv(\"laptop_cleaned2.csv\")\n",
    "\n",
    "# show loaded dataset\n",
    "df.head()"
   ]
  },
  {
   "cell_type": "code",
   "execution_count": 21,
   "id": "620737d8",
   "metadata": {},
   "outputs": [
    {
     "data": {
      "text/plain": [
       "Unnamed: 0                  0\n",
       "Name                        0\n",
       "Brand                       0\n",
       "Price                       0\n",
       "Rating                      0\n",
       "Processor_brand             0\n",
       "Processor_name              0\n",
       "Processor_variant          24\n",
       "Processor_gen             128\n",
       "Core_per_processor         10\n",
       "Total_processor           447\n",
       "Execution_units           447\n",
       "Low_Power_Cores             0\n",
       "Energy_Efficient_Units      0\n",
       "Threads                    46\n",
       "RAM_GB                      0\n",
       "RAM_type                   22\n",
       "Storage_capacity_GB         0\n",
       "Storage_type                0\n",
       "Graphics_name               2\n",
       "Graphics_brand              2\n",
       "Graphics_GB               652\n",
       "Graphics_integreted         2\n",
       "Display_size_inches         0\n",
       "Horizontal_pixel            0\n",
       "Vertical_pixel              0\n",
       "ppi                         0\n",
       "Touch_screen                0\n",
       "Operating_system            0\n",
       "dtype: int64"
      ]
     },
     "execution_count": 21,
     "metadata": {},
     "output_type": "execute_result"
    }
   ],
   "source": [
    "df.isnull().sum()"
   ]
  },
  {
   "cell_type": "code",
   "execution_count": null,
   "id": "9264d528",
   "metadata": {},
   "outputs": [
    {
     "data": {
      "text/plain": [
       "(1015, 29)"
      ]
     },
     "execution_count": 31,
     "metadata": {},
     "output_type": "execute_result"
    }
   ],
   "source": [
    "df.shape"
   ]
  },
  {
   "cell_type": "code",
   "execution_count": 33,
   "id": "bafe0734",
   "metadata": {},
   "outputs": [
    {
     "data": {
      "text/plain": [
       "np.int64(0)"
      ]
     },
     "execution_count": 33,
     "metadata": {},
     "output_type": "execute_result"
    }
   ],
   "source": [
    "df.duplicated().sum()"
   ]
  },
  {
   "cell_type": "markdown",
   "id": "db7b2bf5",
   "metadata": {},
   "source": [
    "I will impute missing values for core_per_processor, threads, ram_type, graphics_name, graphics_brand and graphics_integrated and will drop total_processor, Execution_units and graphics_gb due to almost half of the rows being empty for the first two and more than 60 percent missing for the last."
   ]
  },
  {
   "cell_type": "code",
   "execution_count": null,
   "id": "4a857cc5",
   "metadata": {},
   "outputs": [
    {
     "data": {
      "text/plain": [
       "31"
      ]
     },
     "execution_count": 44,
     "metadata": {},
     "output_type": "execute_result"
    }
   ],
   "source": [
    "df[\"Brand\"].nunique()"
   ]
  },
  {
   "cell_type": "code",
   "execution_count": 45,
   "id": "12b2ccb2",
   "metadata": {},
   "outputs": [
    {
     "data": {
      "text/plain": [
       "Brand\n",
       "Lenovo       217\n",
       "HP           213\n",
       "Asus         157\n",
       "Dell         116\n",
       "MSI           97\n",
       "Acer          69\n",
       "Samsung       28\n",
       "Apple         20\n",
       "Infinix       20\n",
       "Chuwi          8\n",
       "Zebronics      7\n",
       "Microsoft      7\n",
       "LG             7\n",
       "Honor          6\n",
       "Xiaomi         6\n",
       "Gigabyte       6\n",
       "Avita          6\n",
       "Ultimus        5\n",
       "Wings          3\n",
       "Primebook      3\n",
       "Fujitsu        3\n",
       "AXL            2\n",
       "Tecno          1\n",
       "Jio            1\n",
       "ASUS           1\n",
       "iBall          1\n",
       "Walker         1\n",
       "Colorful       1\n",
       "Ninkear        1\n",
       "Huawei         1\n",
       "Razer          1\n",
       "Name: count, dtype: int64"
      ]
     },
     "execution_count": 45,
     "metadata": {},
     "output_type": "execute_result"
    }
   ],
   "source": [
    "df[\"Brand\"].value_counts()"
   ]
  },
  {
   "cell_type": "code",
   "execution_count": 46,
   "id": "264ea161",
   "metadata": {},
   "outputs": [],
   "source": [
    "brand_counts = df[\"Brand\"].value_counts()\n",
    "rare_brands = brand_counts[brand_counts < 10].index  # brands with <10 rows\n",
    "df[\"Brand\"] = df[\"Brand\"].replace(rare_brands, \"Other\")"
   ]
  },
  {
   "cell_type": "code",
   "execution_count": 48,
   "id": "fbeedbff",
   "metadata": {},
   "outputs": [
    {
     "data": {
      "text/plain": [
       "array(['HP', 'Lenovo', 'Samsung', 'Other', 'Dell', 'Asus', 'Apple',\n",
       "       'Acer', 'MSI', 'Infinix'], dtype=object)"
      ]
     },
     "execution_count": 48,
     "metadata": {},
     "output_type": "execute_result"
    }
   ],
   "source": [
    "df[\"Brand\"].unique()"
   ]
  },
  {
   "cell_type": "code",
   "execution_count": 49,
   "id": "704502c5",
   "metadata": {},
   "outputs": [
    {
     "data": {
      "text/plain": [
       "Brand\n",
       "Lenovo     217\n",
       "HP         213\n",
       "Asus       157\n",
       "Dell       116\n",
       "MSI         97\n",
       "Other       78\n",
       "Acer        69\n",
       "Samsung     28\n",
       "Apple       20\n",
       "Infinix     20\n",
       "Name: count, dtype: int64"
      ]
     },
     "execution_count": 49,
     "metadata": {},
     "output_type": "execute_result"
    }
   ],
   "source": [
    "df[\"Brand\"].value_counts()"
   ]
  },
  {
   "cell_type": "code",
   "execution_count": 51,
   "id": "37157e3e",
   "metadata": {},
   "outputs": [
    {
     "data": {
      "text/plain": [
       "np.int64(0)"
      ]
     },
     "execution_count": 51,
     "metadata": {},
     "output_type": "execute_result"
    }
   ],
   "source": [
    "df[\"Brand\"].isna().sum()"
   ]
  },
  {
   "cell_type": "code",
   "execution_count": 52,
   "id": "9a0f7dae",
   "metadata": {},
   "outputs": [
    {
     "data": {
      "text/plain": [
       "5"
      ]
     },
     "execution_count": 52,
     "metadata": {},
     "output_type": "execute_result"
    }
   ],
   "source": [
    "df[\"Processor_brand\"].nunique()"
   ]
  },
  {
   "cell_type": "code",
   "execution_count": 53,
   "id": "ca3c973c",
   "metadata": {},
   "outputs": [
    {
     "data": {
      "text/plain": [
       "Processor_brand\n",
       "Intel        739\n",
       "AMD          250\n",
       "Apple         18\n",
       "MediaTek       7\n",
       "Microsoft      1\n",
       "Name: count, dtype: int64"
      ]
     },
     "execution_count": 53,
     "metadata": {},
     "output_type": "execute_result"
    }
   ],
   "source": [
    "df[\"Processor_brand\"].value_counts()"
   ]
  },
  {
   "cell_type": "code",
   "execution_count": 23,
   "id": "664c25a4",
   "metadata": {},
   "outputs": [
    {
     "data": {
      "text/html": [
       "<div>\n",
       "<style scoped>\n",
       "    .dataframe tbody tr th:only-of-type {\n",
       "        vertical-align: middle;\n",
       "    }\n",
       "\n",
       "    .dataframe tbody tr th {\n",
       "        vertical-align: top;\n",
       "    }\n",
       "\n",
       "    .dataframe thead th {\n",
       "        text-align: right;\n",
       "    }\n",
       "</style>\n",
       "<table border=\"1\" class=\"dataframe\">\n",
       "  <thead>\n",
       "    <tr style=\"text-align: right;\">\n",
       "      <th></th>\n",
       "      <th>Processor_name</th>\n",
       "      <th>Processor_variant</th>\n",
       "    </tr>\n",
       "  </thead>\n",
       "  <tbody>\n",
       "    <tr>\n",
       "      <th>80</th>\n",
       "      <td>Intel Core i9</td>\n",
       "      <td>14900HX</td>\n",
       "    </tr>\n",
       "    <tr>\n",
       "      <th>140</th>\n",
       "      <td>eration Intel Core</td>\n",
       "      <td>L3…</td>\n",
       "    </tr>\n",
       "    <tr>\n",
       "      <th>194</th>\n",
       "      <td>Qualcomm X Elite</td>\n",
       "      <td>Elite</td>\n",
       "    </tr>\n",
       "    <tr>\n",
       "      <th>253</th>\n",
       "      <td>Intel Core i7</td>\n",
       "      <td>i7</td>\n",
       "    </tr>\n",
       "    <tr>\n",
       "      <th>501</th>\n",
       "      <td>Intel Celeron</td>\n",
       "      <td>N4500</td>\n",
       "    </tr>\n",
       "    <tr>\n",
       "      <th>531</th>\n",
       "      <td>Intel Core i5</td>\n",
       "      <td>i5</td>\n",
       "    </tr>\n",
       "    <tr>\n",
       "      <th>648</th>\n",
       "      <td>HiSilicon  Kirin 9006C 9006C</td>\n",
       "      <td>9006C</td>\n",
       "    </tr>\n",
       "    <tr>\n",
       "      <th>778</th>\n",
       "      <td>Intel Core i7</td>\n",
       "      <td>12700H</td>\n",
       "    </tr>\n",
       "    <tr>\n",
       "      <th>902</th>\n",
       "      <td>Intel Core i3</td>\n",
       "      <td>N305</td>\n",
       "    </tr>\n",
       "  </tbody>\n",
       "</table>\n",
       "</div>"
      ],
      "text/plain": [
       "                   Processor_name Processor_variant\n",
       "80                  Intel Core i9           14900HX\n",
       "140            eration Intel Core               L3…\n",
       "194              Qualcomm X Elite             Elite\n",
       "253                 Intel Core i7                i7\n",
       "501                Intel Celeron              N4500\n",
       "531                 Intel Core i5                i5\n",
       "648  HiSilicon  Kirin 9006C 9006C             9006C\n",
       "778                 Intel Core i7            12700H\n",
       "902                 Intel Core i3              N305"
      ]
     },
     "execution_count": 23,
     "metadata": {},
     "output_type": "execute_result"
    }
   ],
   "source": [
    "missing_core = df[df[\"Core_per_processor\"].isna()]\n",
    "missing_core[[\"Processor_name\", \"Processor_variant\"]].drop_duplicates()\n",
    "\n"
   ]
  },
  {
   "cell_type": "code",
   "execution_count": 24,
   "id": "ee00eeb9",
   "metadata": {},
   "outputs": [
    {
     "name": "stdout",
     "output_type": "stream",
     "text": [
      "Processor: Intel Core i9, Variant: 14900HX\n",
      "Core_per_processor\n",
      "24.0    8\n",
      "Name: count, dtype: int64\n",
      "----\n",
      "Processor: Intel Core i7, Variant: i7\n",
      "Core_per_processor\n",
      "4.0    1\n",
      "Name: count, dtype: int64\n",
      "----\n",
      "Processor: Intel Celeron , Variant: N4500\n",
      "Core_per_processor\n",
      "2.0    14\n",
      "Name: count, dtype: int64\n",
      "----\n",
      "Processor: Intel Core i7, Variant: 12700H\n",
      "Core_per_processor\n",
      "14.0    6\n",
      "Name: count, dtype: int64\n",
      "----\n",
      "Processor: Intel Core i3, Variant: N305\n",
      "Core_per_processor\n",
      "8.0    5\n",
      "Name: count, dtype: int64\n",
      "----\n"
     ]
    }
   ],
   "source": [
    "for name, variant in missing_core[[\"Processor_name\", \"Processor_variant\"]].drop_duplicates().values:\n",
    "    subset = df[\n",
    "        (df[\"Processor_name\"] == name) &\n",
    "        (df[\"Processor_variant\"] == variant) &\n",
    "        (df[\"Core_per_processor\"].notna())\n",
    "    ]\n",
    "    if not subset.empty:\n",
    "        print(f\"Processor: {name}, Variant: {variant}\")\n",
    "        print(subset[\"Core_per_processor\"].value_counts())\n",
    "        print(\"----\")\n"
   ]
  },
  {
   "cell_type": "code",
   "execution_count": 25,
   "id": "793d125a",
   "metadata": {},
   "outputs": [
    {
     "name": "stdout",
     "output_type": "stream",
     "text": [
      "Remaining NaN values: 5\n"
     ]
    }
   ],
   "source": [
    "# Step 1: Build a dictionary of (Processor_name, Processor_variant) → most common core value\n",
    "core_map = (\n",
    "    df.groupby([\"Processor_name\", \"Processor_variant\"])[\"Core_per_processor\"]\n",
    "      .agg(lambda x: x.mode().iloc[0] if not x.mode().empty else None)\n",
    "      .dropna()\n",
    "      .to_dict()\n",
    ")\n",
    "\n",
    "# Step 2: Function to fill missing Core_per_processor using the dictionary\n",
    "def fill_core(row):\n",
    "    if pd.isna(row[\"Core_per_processor\"]):\n",
    "        return core_map.get((row[\"Processor_name\"], row[\"Processor_variant\"]), row[\"Core_per_processor\"])\n",
    "    return row[\"Core_per_processor\"]\n",
    "\n",
    "# Step 3: Apply the function to the DataFrame\n",
    "df[\"Core_per_processor\"] = df.apply(fill_core, axis=1)\n",
    "\n",
    "# Step 4: Check if there are still missing values\n",
    "print(\"Remaining NaN values:\", df[\"Core_per_processor\"].isna().sum())\n"
   ]
  },
  {
   "cell_type": "code",
   "execution_count": 26,
   "id": "43efc8e0",
   "metadata": {},
   "outputs": [
    {
     "data": {
      "text/html": [
       "<div>\n",
       "<style scoped>\n",
       "    .dataframe tbody tr th:only-of-type {\n",
       "        vertical-align: middle;\n",
       "    }\n",
       "\n",
       "    .dataframe tbody tr th {\n",
       "        vertical-align: top;\n",
       "    }\n",
       "\n",
       "    .dataframe thead th {\n",
       "        text-align: right;\n",
       "    }\n",
       "</style>\n",
       "<table border=\"1\" class=\"dataframe\">\n",
       "  <thead>\n",
       "    <tr style=\"text-align: right;\">\n",
       "      <th></th>\n",
       "      <th>Processor_name</th>\n",
       "      <th>Processor_variant</th>\n",
       "    </tr>\n",
       "  </thead>\n",
       "  <tbody>\n",
       "    <tr>\n",
       "      <th>140</th>\n",
       "      <td>eration Intel Core</td>\n",
       "      <td>L3…</td>\n",
       "    </tr>\n",
       "    <tr>\n",
       "      <th>194</th>\n",
       "      <td>Qualcomm X Elite</td>\n",
       "      <td>Elite</td>\n",
       "    </tr>\n",
       "    <tr>\n",
       "      <th>531</th>\n",
       "      <td>Intel Core i5</td>\n",
       "      <td>i5</td>\n",
       "    </tr>\n",
       "    <tr>\n",
       "      <th>648</th>\n",
       "      <td>HiSilicon  Kirin 9006C 9006C</td>\n",
       "      <td>9006C</td>\n",
       "    </tr>\n",
       "  </tbody>\n",
       "</table>\n",
       "</div>"
      ],
      "text/plain": [
       "                   Processor_name Processor_variant\n",
       "140            eration Intel Core               L3…\n",
       "194              Qualcomm X Elite             Elite\n",
       "531                 Intel Core i5                i5\n",
       "648  HiSilicon  Kirin 9006C 9006C             9006C"
      ]
     },
     "execution_count": 26,
     "metadata": {},
     "output_type": "execute_result"
    }
   ],
   "source": [
    "missing_core = df[df[\"Core_per_processor\"].isna()]\n",
    "missing_core[[\"Processor_name\", \"Processor_variant\"]].drop_duplicates()"
   ]
  },
  {
   "cell_type": "markdown",
   "id": "fc429be8",
   "metadata": {},
   "source": [
    "I am going to drop the remaining 4 rows because I don't know which kind of processor they are and I couldn't find any specs for the HiSilicon Kirin 9006C"
   ]
  },
  {
   "cell_type": "code",
   "execution_count": 27,
   "id": "3fa515f3",
   "metadata": {},
   "outputs": [
    {
     "name": "stdout",
     "output_type": "stream",
     "text": [
      "Remaining NaN values: 0\n",
      "New dataset shape: (1015, 29)\n"
     ]
    }
   ],
   "source": [
    "# Drop rows where Core_per_processor is still NaN\n",
    "df = df.dropna(subset=[\"Core_per_processor\"])\n",
    "\n",
    "# Reset index (optional, to keep things tidy)\n",
    "df = df.reset_index(drop=True)\n",
    "\n",
    "print(\"Remaining NaN values:\", df[\"Core_per_processor\"].isna().sum())\n",
    "print(\"New dataset shape:\", df.shape)\n"
   ]
  },
  {
   "cell_type": "code",
   "execution_count": 39,
   "id": "ddfa6ea4",
   "metadata": {},
   "outputs": [
    {
     "data": {
      "text/plain": [
       "Processor_brand\n",
       "Intel        739\n",
       "AMD          250\n",
       "Apple         18\n",
       "MediaTek       7\n",
       "Microsoft      1\n",
       "Name: count, dtype: int64"
      ]
     },
     "execution_count": 39,
     "metadata": {},
     "output_type": "execute_result"
    }
   ],
   "source": [
    "df[\"Processor_brand\"].value_counts()"
   ]
  },
  {
   "cell_type": "code",
   "execution_count": 42,
   "id": "762e285a",
   "metadata": {},
   "outputs": [
    {
     "data": {
      "text/plain": [
       "Brand\n",
       "Lenovo       217\n",
       "HP           213\n",
       "Asus         157\n",
       "Dell         116\n",
       "MSI           97\n",
       "Acer          69\n",
       "Samsung       28\n",
       "Apple         20\n",
       "Infinix       20\n",
       "Chuwi          8\n",
       "Zebronics      7\n",
       "Microsoft      7\n",
       "LG             7\n",
       "Honor          6\n",
       "Xiaomi         6\n",
       "Gigabyte       6\n",
       "Avita          6\n",
       "Ultimus        5\n",
       "Wings          3\n",
       "Primebook      3\n",
       "Fujitsu        3\n",
       "AXL            2\n",
       "Tecno          1\n",
       "Jio            1\n",
       "ASUS           1\n",
       "iBall          1\n",
       "Walker         1\n",
       "Colorful       1\n",
       "Ninkear        1\n",
       "Huawei         1\n",
       "Razer          1\n",
       "Name: count, dtype: int64"
      ]
     },
     "execution_count": 42,
     "metadata": {},
     "output_type": "execute_result"
    }
   ],
   "source": [
    "df[\"Brand\"].value_counts()"
   ]
  },
  {
   "cell_type": "code",
   "execution_count": 43,
   "id": "c0a302ee",
   "metadata": {},
   "outputs": [
    {
     "data": {
      "text/plain": [
       "31"
      ]
     },
     "execution_count": 43,
     "metadata": {},
     "output_type": "execute_result"
    }
   ],
   "source": [
    "# How many unique brands?\n",
    "df[\"Brand\"].nunique()\n"
   ]
  },
  {
   "cell_type": "code",
   "execution_count": 38,
   "id": "05c53013",
   "metadata": {},
   "outputs": [
    {
     "data": {
      "text/html": [
       "<div>\n",
       "<style scoped>\n",
       "    .dataframe tbody tr th:only-of-type {\n",
       "        vertical-align: middle;\n",
       "    }\n",
       "\n",
       "    .dataframe tbody tr th {\n",
       "        vertical-align: top;\n",
       "    }\n",
       "\n",
       "    .dataframe thead th {\n",
       "        text-align: right;\n",
       "    }\n",
       "</style>\n",
       "<table border=\"1\" class=\"dataframe\">\n",
       "  <thead>\n",
       "    <tr style=\"text-align: right;\">\n",
       "      <th></th>\n",
       "      <th>Processor_name</th>\n",
       "      <th>Processor_variant</th>\n",
       "    </tr>\n",
       "  </thead>\n",
       "  <tbody>\n",
       "    <tr>\n",
       "      <th>13</th>\n",
       "      <td>Apple M1</td>\n",
       "      <td>NaN</td>\n",
       "    </tr>\n",
       "    <tr>\n",
       "      <th>17</th>\n",
       "      <td>Apple M3</td>\n",
       "      <td>NaN</td>\n",
       "    </tr>\n",
       "    <tr>\n",
       "      <th>23</th>\n",
       "      <td>Apple M2</td>\n",
       "      <td>NaN</td>\n",
       "    </tr>\n",
       "    <tr>\n",
       "      <th>24</th>\n",
       "      <td>Intel Core 5</td>\n",
       "      <td>120U</td>\n",
       "    </tr>\n",
       "    <tr>\n",
       "      <th>26</th>\n",
       "      <td>Intel Core Ultra</td>\n",
       "      <td>155H</td>\n",
       "    </tr>\n",
       "    <tr>\n",
       "      <th>...</th>\n",
       "      <td>...</td>\n",
       "      <td>...</td>\n",
       "    </tr>\n",
       "    <tr>\n",
       "      <th>897</th>\n",
       "      <td>Intel Core i3</td>\n",
       "      <td>N305</td>\n",
       "    </tr>\n",
       "    <tr>\n",
       "      <th>947</th>\n",
       "      <td>Intel Core i3</td>\n",
       "      <td>N305</td>\n",
       "    </tr>\n",
       "    <tr>\n",
       "      <th>977</th>\n",
       "      <td>Intel Celeron</td>\n",
       "      <td>N4020</td>\n",
       "    </tr>\n",
       "    <tr>\n",
       "      <th>979</th>\n",
       "      <td>Intel Celeron</td>\n",
       "      <td>N4020</td>\n",
       "    </tr>\n",
       "    <tr>\n",
       "      <th>1003</th>\n",
       "      <td>Intel Pentium Silver</td>\n",
       "      <td>N6000</td>\n",
       "    </tr>\n",
       "  </tbody>\n",
       "</table>\n",
       "<p>125 rows × 2 columns</p>\n",
       "</div>"
      ],
      "text/plain": [
       "            Processor_name Processor_variant\n",
       "13                Apple M1               NaN\n",
       "17                Apple M3               NaN\n",
       "23                Apple M2               NaN\n",
       "24            Intel Core 5              120U\n",
       "26        Intel Core Ultra              155H\n",
       "...                    ...               ...\n",
       "897          Intel Core i3              N305\n",
       "947          Intel Core i3              N305\n",
       "977         Intel Celeron              N4020\n",
       "979         Intel Celeron              N4020\n",
       "1003  Intel Pentium Silver             N6000\n",
       "\n",
       "[125 rows x 2 columns]"
      ]
     },
     "execution_count": 38,
     "metadata": {},
     "output_type": "execute_result"
    }
   ],
   "source": [
    "missing_generation = df[df[\"Processor_gen\"].isna()]\n",
    "missing_generation[[\"Processor_name\",\"Processor_variant\"]]"
   ]
  }
 ],
 "metadata": {
  "kernelspec": {
   "display_name": "Python 3",
   "language": "python",
   "name": "python3"
  },
  "language_info": {
   "codemirror_mode": {
    "name": "ipython",
    "version": 3
   },
   "file_extension": ".py",
   "mimetype": "text/x-python",
   "name": "python",
   "nbconvert_exporter": "python",
   "pygments_lexer": "ipython3",
   "version": "3.12.10"
  }
 },
 "nbformat": 4,
 "nbformat_minor": 5
}
