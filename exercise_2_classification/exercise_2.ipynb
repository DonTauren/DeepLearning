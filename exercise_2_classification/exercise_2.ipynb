{
 "cells": [
  {
   "cell_type": "markdown",
   "id": "506af490",
   "metadata": {},
   "source": [
    "# Exercise 2 - ANN classification"
   ]
  },
  {
   "cell_type": "markdown",
   "id": "12c2bc7b",
   "metadata": {},
   "source": [
    "Dataset: https://www.kaggle.com/datasets/priyamchoksi/adult-census-income-dataset?resource=download\n",
    "\n",
    "For this exercise I have selected a dataset "
   ]
  }
 ],
 "metadata": {
  "language_info": {
   "name": "python"
  }
 },
 "nbformat": 4,
 "nbformat_minor": 5
}
